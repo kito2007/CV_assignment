{
  "nbformat": 4,
  "nbformat_minor": 0,
  "metadata": {
    "colab": {
      "provenance": [],
      "gpuType": "T4",
      "mount_file_id": "1wO9JW6UDXG6aaOijoirBQfeXKelo8JCQ",
      "authorship_tag": "ABX9TyMIyxBF/bWYVFGE5hAZP4gI",
      "include_colab_link": true
    },
    "kernelspec": {
      "name": "python3",
      "display_name": "Python 3"
    },
    "language_info": {
      "name": "python"
    },
    "accelerator": "GPU",
    "gpuClass": "standard"
  },
  "cells": [
    {
      "cell_type": "markdown",
      "metadata": {
        "id": "view-in-github",
        "colab_type": "text"
      },
      "source": [
        "<a href=\"https://colab.research.google.com/github/kito2007/CV_assignment/blob/main/CV_%EC%A4%91%EA%B0%84%EA%B3%BC%EC%A0%9C.ipynb\" target=\"_parent\"><img src=\"https://colab.research.google.com/assets/colab-badge.svg\" alt=\"Open In Colab\"/></a>"
      ]
    },
    {
      "cell_type": "code",
      "source": [
        "from google.colab import drive\n",
        "drive.mount('/content/drive')\n"
      ],
      "metadata": {
        "colab": {
          "base_uri": "https://localhost:8080/"
        },
        "id": "4gK_NNMRuVpA",
        "outputId": "07df48eb-e93d-4c21-914d-852b77bf0e6d"
      },
      "execution_count": null,
      "outputs": [
        {
          "output_type": "stream",
          "name": "stdout",
          "text": [
            "Drive already mounted at /content/drive; to attempt to forcibly remount, call drive.mount(\"/content/drive\", force_remount=True).\n"
          ]
        }
      ]
    },
    {
      "cell_type": "code",
      "source": [
        "import os\n",
        "import numpy as np\n",
        "import cv2\n",
        "from keras.preprocessing.image import ImageDataGenerator\n",
        "from keras.applications.vgg16 import VGG16\n",
        "from keras.models import Sequential\n",
        "from keras.layers import Dense, Flatten\n",
        "from keras.optimizers import Adam\n",
        "\n",
        "# 데이터 경로 설정\n",
        "data_dir = '/content/drive/MyDrive/CV/chest_xray'\n",
        "train_dir = os.path.join(data_dir, 'train')\n",
        "test_dir = os.path.join(data_dir, 'test')\n",
        "val_dir = os.path.join(data_dir, 'val')\n",
        "labels = ['NORMAL', 'PNEUMONIA']\n",
        "img_size = 224  # VGG16 모델의 입력 이미지 크기\n",
        "\n",
        "# 데이터 불러오기 및 전처리 함수\n",
        "def load_data(data_dir):\n",
        "    data = []\n",
        "    for label in labels:\n",
        "        path = os.path.join(data_dir, label)\n",
        "        class_num = labels.index(label)\n",
        "        files = os.listdir(path)\n",
        "        np.random.shuffle(files)\n",
        "        count = 0\n",
        "        for img_file in files:\n",
        "            if count >= 500:  # 각 클래스별로 500개씩 사용\n",
        "                break\n",
        "            if img_file.endswith('.DS_Store'):  # .DS_Store 파일 제외\n",
        "                continue\n",
        "            img_path = os.path.join(path, img_file)\n",
        "            try:\n",
        "                img = cv2.imread(img_path)\n",
        "                img = cv2.cvtColor(img, cv2.COLOR_BGR2RGB)\n",
        "                img = cv2.resize(img, (img_size, img_size))\n",
        "                data.append([img, class_num])\n",
        "                count += 1\n",
        "            except Exception as e:\n",
        "                print(f\"이미지 경로 예외처리: {img_path}\")\n",
        "                print(e)\n",
        "    return np.array(data)\n",
        "\n",
        "\n",
        "\n",
        "# 데이터 로드\n",
        "train_data = load_data(train_dir)\n",
        "test_data = load_data(test_dir)\n",
        "val_data = load_data(val_dir)\n",
        "\n",
        "# 데이터셋 분할\n",
        "train_images = np.array([item[0] for item in train_data])\n",
        "train_labels = np.array([item[1] for item in train_data])\n",
        "test_images = np.array([item[0] for item in test_data])\n",
        "test_labels = np.array([item[1] for item in test_data])\n",
        "val_images = np.array([item[0] for item in val_data])\n",
        "val_labels = np.array([item[1] for item in val_data])\n",
        "\n",
        "# 전처리 및 데이터 증강\n",
        "train_datagen = ImageDataGenerator(rescale=1./255, horizontal_flip=True)\n",
        "test_datagen = ImageDataGenerator(rescale=1./255)\n",
        "\n",
        "train_generator = train_datagen.flow(train_images, train_labels, batch_size=32)\n",
        "test_generator = test_datagen.flow(test_images, test_labels, batch_size=32)\n",
        "\n",
        "# VGG16 모델 로드\n",
        "base_model = VGG16(weights='imagenet', include_top=False, input_shape=(img_size, img_size, 3))\n",
        "\n",
        "# 모델 구성\n",
        "model = Sequential()\n",
        "model.add(base_model)\n",
        "model.add(Flatten())\n",
        "model.add(Dense(256, activation='relu'))\n",
        "model.add(Dense(1, activation='sigmoid'))\n",
        "\n",
        "# 모델 컴파일\n",
        "model.compile(loss='binary_crossentropy', optimizer=Adam(lr=0.0001), metrics=['accuracy'])\n",
        "\n",
        "# 모델 학습\n",
        "model.fit(train_generator, epochs=10, validation_data=test_generator)\n",
        "\n",
        "# 모델 평가\n",
        "loss, accuracy = model.evaluate(test_generator)\n",
        "print('Test Loss:', loss)\n",
        "print('Test Accuracy:', accuracy)\n"
      ],
      "metadata": {
        "colab": {
          "base_uri": "https://localhost:8080/"
        },
        "id": "gqH_gbDytezQ",
        "outputId": "3fa5cf36-d3ec-487a-d400-82e6f10c81a6"
      },
      "execution_count": null,
      "outputs": [
        {
          "output_type": "stream",
          "name": "stderr",
          "text": [
            "<ipython-input-7-e391d5383acd>:42: VisibleDeprecationWarning: Creating an ndarray from ragged nested sequences (which is a list-or-tuple of lists-or-tuples-or ndarrays with different lengths or shapes) is deprecated. If you meant to do this, you must specify 'dtype=object' when creating the ndarray.\n",
            "  return np.array(data)\n"
          ]
        },
        {
          "output_type": "stream",
          "name": "stdout",
          "text": [
            "Epoch 1/10\n",
            "32/32 [==============================] - 16s 451ms/step - loss: 0.5082 - accuracy: 0.7410 - val_loss: 0.4370 - val_accuracy: 0.8285\n",
            "Epoch 2/10\n",
            "32/32 [==============================] - 14s 444ms/step - loss: 0.2479 - accuracy: 0.9030 - val_loss: 0.5366 - val_accuracy: 0.7901\n",
            "Epoch 3/10\n",
            "32/32 [==============================] - 14s 448ms/step - loss: 0.1991 - accuracy: 0.9210 - val_loss: 0.4048 - val_accuracy: 0.8494\n",
            "Epoch 4/10\n",
            "32/32 [==============================] - 14s 450ms/step - loss: 0.1651 - accuracy: 0.9380 - val_loss: 0.4062 - val_accuracy: 0.8189\n",
            "Epoch 5/10\n",
            "32/32 [==============================] - 15s 454ms/step - loss: 0.1068 - accuracy: 0.9600 - val_loss: 0.6024 - val_accuracy: 0.8077\n",
            "Epoch 6/10\n",
            "32/32 [==============================] - 15s 455ms/step - loss: 0.1157 - accuracy: 0.9520 - val_loss: 0.4542 - val_accuracy: 0.8253\n",
            "Epoch 7/10\n",
            "32/32 [==============================] - 15s 458ms/step - loss: 0.0889 - accuracy: 0.9650 - val_loss: 0.7591 - val_accuracy: 0.7788\n",
            "Epoch 8/10\n",
            "32/32 [==============================] - 15s 465ms/step - loss: 0.0703 - accuracy: 0.9730 - val_loss: 0.8767 - val_accuracy: 0.8157\n",
            "Epoch 9/10\n",
            "32/32 [==============================] - 15s 467ms/step - loss: 0.0451 - accuracy: 0.9830 - val_loss: 1.1321 - val_accuracy: 0.8558\n",
            "Epoch 10/10\n",
            "32/32 [==============================] - 15s 460ms/step - loss: 0.0522 - accuracy: 0.9760 - val_loss: 0.9459 - val_accuracy: 0.8093\n",
            "20/20 [==============================] - 2s 120ms/step - loss: 0.9459 - accuracy: 0.8093\n",
            "Test Loss: 0.9459297060966492\n",
            "Test Accuracy: 0.8092948794364929\n"
          ]
        }
      ]
    },
    {
      "cell_type": "code",
      "source": [
        "from tensorflow.keras.models import load_model\n",
        "\n",
        "# 예측 함수 정의\n",
        "def predict_images(model, data_dir):\n",
        "    data = load_data(data_dir)\n",
        "    images = np.array([item[0] for item in data])\n",
        "    labels = np.array([item[1] for item in data])\n",
        "\n",
        "    # 예측 수행\n",
        "    predictions = model.predict(images)\n",
        "    predicted_labels = np.argmax(predictions, axis=1)\n",
        "\n",
        "    # 예측 결과 출력\n",
        "    for i in range(len(images)):\n",
        "        print(\"실제 레이블:\", labels[i])\n",
        "        print(\"예측 레이블:\", predicted_labels[i])\n",
        "        print()\n",
        "\n",
        "# 모델 로드\n",
        "model = load_model('model.h5')\n",
        "\n",
        "# 예측 수행 및 결과 출력\n",
        "predict_images(model, '/content/drive/MyDrive/CV/chest_xray/val')\n"
      ],
      "metadata": {
        "colab": {
          "base_uri": "https://localhost:8080/",
          "height": 400
        },
        "id": "L9VqcfqiOgfq",
        "outputId": "fa318045-d3b3-4d88-894c-6a0200912387"
      },
      "execution_count": null,
      "outputs": [
        {
          "output_type": "error",
          "ename": "OSError",
          "evalue": "ignored",
          "traceback": [
            "\u001b[0;31m---------------------------------------------------------------------------\u001b[0m",
            "\u001b[0;31mOSError\u001b[0m                                   Traceback (most recent call last)",
            "\u001b[0;32m<ipython-input-6-53718dc2eab7>\u001b[0m in \u001b[0;36m<cell line: 20>\u001b[0;34m()\u001b[0m\n\u001b[1;32m     18\u001b[0m \u001b[0;34m\u001b[0m\u001b[0m\n\u001b[1;32m     19\u001b[0m \u001b[0;31m# 모델 로드\u001b[0m\u001b[0;34m\u001b[0m\u001b[0;34m\u001b[0m\u001b[0m\n\u001b[0;32m---> 20\u001b[0;31m \u001b[0mmodel\u001b[0m \u001b[0;34m=\u001b[0m \u001b[0mload_model\u001b[0m\u001b[0;34m(\u001b[0m\u001b[0;34m'model.h5'\u001b[0m\u001b[0;34m)\u001b[0m\u001b[0;34m\u001b[0m\u001b[0;34m\u001b[0m\u001b[0m\n\u001b[0m\u001b[1;32m     21\u001b[0m \u001b[0;34m\u001b[0m\u001b[0m\n\u001b[1;32m     22\u001b[0m \u001b[0;31m# 예측 수행 및 결과 출력\u001b[0m\u001b[0;34m\u001b[0m\u001b[0;34m\u001b[0m\u001b[0m\n",
            "\u001b[0;32m/usr/local/lib/python3.10/dist-packages/keras/saving/saving_api.py\u001b[0m in \u001b[0;36mload_model\u001b[0;34m(filepath, custom_objects, compile, safe_mode, **kwargs)\u001b[0m\n\u001b[1;32m    210\u001b[0m \u001b[0;34m\u001b[0m\u001b[0m\n\u001b[1;32m    211\u001b[0m     \u001b[0;31m# Legacy case.\u001b[0m\u001b[0;34m\u001b[0m\u001b[0;34m\u001b[0m\u001b[0m\n\u001b[0;32m--> 212\u001b[0;31m     return legacy_sm_saving_lib.load_model(\n\u001b[0m\u001b[1;32m    213\u001b[0m         \u001b[0mfilepath\u001b[0m\u001b[0;34m,\u001b[0m \u001b[0mcustom_objects\u001b[0m\u001b[0;34m=\u001b[0m\u001b[0mcustom_objects\u001b[0m\u001b[0;34m,\u001b[0m \u001b[0mcompile\u001b[0m\u001b[0;34m=\u001b[0m\u001b[0mcompile\u001b[0m\u001b[0;34m,\u001b[0m \u001b[0;34m**\u001b[0m\u001b[0mkwargs\u001b[0m\u001b[0;34m\u001b[0m\u001b[0;34m\u001b[0m\u001b[0m\n\u001b[1;32m    214\u001b[0m     )\n",
            "\u001b[0;32m/usr/local/lib/python3.10/dist-packages/keras/utils/traceback_utils.py\u001b[0m in \u001b[0;36merror_handler\u001b[0;34m(*args, **kwargs)\u001b[0m\n\u001b[1;32m     68\u001b[0m             \u001b[0;31m# To get the full stack trace, call:\u001b[0m\u001b[0;34m\u001b[0m\u001b[0;34m\u001b[0m\u001b[0m\n\u001b[1;32m     69\u001b[0m             \u001b[0;31m# `tf.debugging.disable_traceback_filtering()`\u001b[0m\u001b[0;34m\u001b[0m\u001b[0;34m\u001b[0m\u001b[0m\n\u001b[0;32m---> 70\u001b[0;31m             \u001b[0;32mraise\u001b[0m \u001b[0me\u001b[0m\u001b[0;34m.\u001b[0m\u001b[0mwith_traceback\u001b[0m\u001b[0;34m(\u001b[0m\u001b[0mfiltered_tb\u001b[0m\u001b[0;34m)\u001b[0m \u001b[0;32mfrom\u001b[0m \u001b[0;32mNone\u001b[0m\u001b[0;34m\u001b[0m\u001b[0;34m\u001b[0m\u001b[0m\n\u001b[0m\u001b[1;32m     71\u001b[0m         \u001b[0;32mfinally\u001b[0m\u001b[0;34m:\u001b[0m\u001b[0;34m\u001b[0m\u001b[0;34m\u001b[0m\u001b[0m\n\u001b[1;32m     72\u001b[0m             \u001b[0;32mdel\u001b[0m \u001b[0mfiltered_tb\u001b[0m\u001b[0;34m\u001b[0m\u001b[0;34m\u001b[0m\u001b[0m\n",
            "\u001b[0;32m/usr/local/lib/python3.10/dist-packages/keras/saving/legacy/save.py\u001b[0m in \u001b[0;36mload_model\u001b[0;34m(filepath, custom_objects, compile, options)\u001b[0m\n\u001b[1;32m    228\u001b[0m                     \u001b[0;32mif\u001b[0m \u001b[0misinstance\u001b[0m\u001b[0;34m(\u001b[0m\u001b[0mfilepath_str\u001b[0m\u001b[0;34m,\u001b[0m \u001b[0mstr\u001b[0m\u001b[0;34m)\u001b[0m\u001b[0;34m:\u001b[0m\u001b[0;34m\u001b[0m\u001b[0;34m\u001b[0m\u001b[0m\n\u001b[1;32m    229\u001b[0m                         \u001b[0;32mif\u001b[0m \u001b[0;32mnot\u001b[0m \u001b[0mtf\u001b[0m\u001b[0;34m.\u001b[0m\u001b[0mio\u001b[0m\u001b[0;34m.\u001b[0m\u001b[0mgfile\u001b[0m\u001b[0;34m.\u001b[0m\u001b[0mexists\u001b[0m\u001b[0;34m(\u001b[0m\u001b[0mfilepath_str\u001b[0m\u001b[0;34m)\u001b[0m\u001b[0;34m:\u001b[0m\u001b[0;34m\u001b[0m\u001b[0;34m\u001b[0m\u001b[0m\n\u001b[0;32m--> 230\u001b[0;31m                             raise IOError(\n\u001b[0m\u001b[1;32m    231\u001b[0m                                 \u001b[0;34mf\"No file or directory found at {filepath_str}\"\u001b[0m\u001b[0;34m\u001b[0m\u001b[0;34m\u001b[0m\u001b[0m\n\u001b[1;32m    232\u001b[0m                             )\n",
            "\u001b[0;31mOSError\u001b[0m: No file or directory found at model.h5"
          ]
        }
      ]
    }
  ]
}